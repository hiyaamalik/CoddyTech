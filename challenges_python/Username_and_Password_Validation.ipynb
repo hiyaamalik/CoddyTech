{
  "nbformat": 4,
  "nbformat_minor": 0,
  "metadata": {
    "colab": {
      "provenance": []
    },
    "kernelspec": {
      "name": "python3",
      "display_name": "Python 3"
    },
    "language_info": {
      "name": "python"
    }
  },
  "cells": [
    {
      "cell_type": "markdown",
      "source": [
        "# Username and Password Validation"
      ],
      "metadata": {
        "id": "NwyVIM_H2Pys"
      }
    },
    {
      "cell_type": "markdown",
      "source": [
        "Write a function named is_valid that gets two strings arguments, username and password.\n",
        "\n",
        "The function will return True if the username and password are valid in the system, otherwise False.\n",
        "\n",
        "Our system contains only two valid usernames - \"admin\" and \"user\".\n",
        "\n",
        "The valid password for username \"user\" is \"qweasd\".\n",
        "\n",
        "For username \"admin\" any password is valid!"
      ],
      "metadata": {
        "id": "j0n0MH_b2JKI"
      }
    },
    {
      "cell_type": "code",
      "execution_count": null,
      "metadata": {
        "id": "ZFLCeuyp2Gja"
      },
      "outputs": [],
      "source": [
        "def is_valid(username, password):\n",
        "    # Write code here\n",
        "    if username==\"admin\" or username==\"user\":\n",
        "        if username==\"admin\":\n",
        "            print(\"true\")\n",
        "        elif username==\"user\" and password==\"qweasd\":\n",
        "            print(\"true\")\n",
        "        elif username==\"user\" and password!=\"qweasd\":\n",
        "            print(\"false\")\n",
        "    else:\n",
        "        print(\"false\")"
      ]
    }
  ]
}