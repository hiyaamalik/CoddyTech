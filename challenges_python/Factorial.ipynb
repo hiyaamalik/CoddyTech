{
  "nbformat": 4,
  "nbformat_minor": 0,
  "metadata": {
    "colab": {
      "provenance": []
    },
    "kernelspec": {
      "name": "python3",
      "display_name": "Python 3"
    },
    "language_info": {
      "name": "python"
    }
  },
  "cells": [
    {
      "cell_type": "markdown",
      "source": [
        "# Factorial"
      ],
      "metadata": {
        "id": "9dhY13haT9zr"
      }
    },
    {
      "cell_type": "markdown",
      "source": [
        "Factorial is a mathematical operation.\n",
        "Factorial of n is the product of all positive integers less than or equal to n.\n",
        "\n",
        "Examples,\n",
        "\n",
        "Factorial of 3: 6 = 1 * 2 * 3\n",
        "\n",
        "Factorial of 6: 720 = 1 * 2 * 3 * 4 * 5 * 6\n",
        "\n",
        "Factorial of 2: 2 = 1 * 2\"\n"
      ],
      "metadata": {
        "id": "awoFh2T9UFy2"
      }
    },
    {
      "cell_type": "code",
      "execution_count": 1,
      "metadata": {
        "colab": {
          "base_uri": "https://localhost:8080/"
        },
        "id": "2Ln3BUdIT8Lz",
        "outputId": "ebdf3f3e-799e-4b8d-88ca-afffbee7fc84"
      },
      "outputs": [
        {
          "output_type": "stream",
          "name": "stdout",
          "text": [
            "5\n",
            "120\n"
          ]
        }
      ],
      "source": [
        "x=int(input())\n",
        "res = 1\n",
        "if x == 0:\n",
        "    res= 1\n",
        "elif x>0:\n",
        "    for i in range (1, x+1):\n",
        "        res*= i\n",
        "print(res)"
      ]
    }
  ]
}
