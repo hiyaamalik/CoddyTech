{
  "nbformat": 4,
  "nbformat_minor": 0,
  "metadata": {
    "colab": {
      "provenance": []
    },
    "kernelspec": {
      "name": "python3",
      "display_name": "Python 3"
    },
    "language_info": {
      "name": "python"
    }
  },
  "cells": [
    {
      "cell_type": "markdown",
      "source": [
        "# Count Syllable"
      ],
      "metadata": {
        "id": "XVYHKEJ4dtx9"
      }
    },
    {
      "cell_type": "markdown",
      "source": [
        "Create a function named count_syllables that gets a word as an argument and returns the number of syllables in this word.\n",
        "\n",
        "Examples:\n",
        "\n",
        "Input: buffet\n",
        "\n",
        "Expected output: 2\n",
        "\n",
        "Input: elephant\n",
        "\n",
        "Expected output: 3\n",
        "\n",
        "Input: python\n",
        "\n",
        "Expected output: 2"
      ],
      "metadata": {
        "id": "zOS5KHPId1aI"
      }
    },
    {
      "cell_type": "code",
      "execution_count": 1,
      "metadata": {
        "id": "BhinfGlLdrCd"
      },
      "outputs": [],
      "source": [
        "def count_syllables(word):\n",
        "    # Write code here\n",
        "    vowels = \"aeiouyAEIOUY\"\n",
        "    syllable = 0\n",
        "    previous_was_vowel = False\n",
        "\n",
        "    for letter in word:\n",
        "        if letter in vowels:\n",
        "\n",
        "            if not previous_was_vowel:\n",
        "                syllable += 1\n",
        "            previous_was_vowel = True\n",
        "        else:\n",
        "            previous_was_vowel = False\n",
        "\n",
        "\n",
        "    return syllable"
      ]
    },
    {
      "cell_type": "code",
      "source": [
        "#Lets Try It\n",
        "count_syllables(\"elephant\")"
      ],
      "metadata": {
        "colab": {
          "base_uri": "https://localhost:8080/"
        },
        "id": "dXfCl6IFd_NU",
        "outputId": "4552071b-cded-4eb5-c0ab-6a22bc797d5f"
      },
      "execution_count": 2,
      "outputs": [
        {
          "output_type": "execute_result",
          "data": {
            "text/plain": [
              "3"
            ]
          },
          "metadata": {},
          "execution_count": 2
        }
      ]
    }
  ]
}