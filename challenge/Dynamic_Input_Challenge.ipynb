{
  "nbformat": 4,
  "nbformat_minor": 0,
  "metadata": {
    "colab": {
      "provenance": []
    },
    "kernelspec": {
      "name": "python3",
      "display_name": "Python 3"
    },
    "language_info": {
      "name": "python"
    }
  },
  "cells": [
    {
      "cell_type": "markdown",
      "source": [
        "# Dynamic Input Challenge"
      ],
      "metadata": {
        "id": "T9ktwrsoWpZ4"
      }
    },
    {
      "cell_type": "markdown",
      "source": [
        "Write a program that gets a dynamic number of input values.\n",
        "\n",
        "The first input is a number that represents the number of the input values following it. The next input values are whole numbers.\n",
        "\n",
        "In the end, print the sum of all the input numbers (not including the first input)."
      ],
      "metadata": {
        "id": "oxo-LAUzWtaj"
      }
    },
    {
      "cell_type": "code",
      "execution_count": 1,
      "metadata": {
        "colab": {
          "base_uri": "https://localhost:8080/"
        },
        "id": "P7grdqy-Wm-o",
        "outputId": "0db5d67b-57ef-48df-91b7-4d5d2f67fce7"
      },
      "outputs": [
        {
          "output_type": "stream",
          "name": "stdout",
          "text": [
            "6\n",
            "2\n",
            "3\n",
            "4\n",
            "5\n",
            "6\n",
            "7\n",
            "27\n"
          ]
        }
      ],
      "source": [
        "ip = int(input()) # no of inputs\n",
        "sum = 0\n",
        "for i in range(ip):\n",
        "    x= int(input())\n",
        "    sum += x\n",
        "\n",
        "print(sum)"
      ]
    }
  ]
}